{
 "cells": [
  {
   "cell_type": "markdown",
   "metadata": {},
   "source": [
    "1. Velocidad Asteroide"
   ]
  },
  {
   "cell_type": "code",
   "execution_count": 4,
   "metadata": {},
   "outputs": [
    {
     "name": "stdout",
     "output_type": "stream",
     "text": [
      "Cuídado, Se acerca un asteroide a una velocidad de 49 km/s\n"
     ]
    }
   ],
   "source": [
    "VelocidadAst = 49\n",
    "if VelocidadAst > 25:\n",
    "    print('Cuídado, Se acerca un asteroide a una velocidad de ' + str(VelocidadAst) + ' km/s')\n",
    "else:\n",
    "    print('Sin asteroides a la redonda')"
   ]
  },
  {
   "cell_type": "markdown",
   "metadata": {},
   "source": [
    "2. Asteroide, Luz Verde"
   ]
  },
  {
   "cell_type": "code",
   "execution_count": 7,
   "metadata": {},
   "outputs": [
    {
     "name": "stdout",
     "output_type": "stream",
     "text": [
      "Ve el cielo, y tal vez puedas ver una luz verde\n"
     ]
    }
   ],
   "source": [
    "VelocidadAst = 20\n",
    "if VelocidadAst > 20:\n",
    "    print('Ve el cielo, y tal vez puedas ver una luz verde')\n",
    "elif VelocidadAst == 20:\n",
    "    print('Ve el cielo, y tal vez puedas ver una luz verde')\n",
    "else:\n",
    "    print('Sin asteroides a la redonda')"
   ]
  },
  {
   "cell_type": "markdown",
   "metadata": {},
   "source": [
    "3. Velocidad y Tamaño"
   ]
  },
  {
   "cell_type": "code",
   "execution_count": 12,
   "metadata": {},
   "outputs": [
    {
     "name": "stdout",
     "output_type": "stream",
     "text": [
      "Cuídado, Se acerca un asteroide a una velocidad de 30 km/s y de un tamaño de 26 m. \n"
     ]
    }
   ],
   "source": [
    "VelocidadAst = 30\n",
    "TamañoAst = 26\n",
    "if VelocidadAst > 25 and TamañoAst > 25:\n",
    "    print('Cuídado, Se acerca un asteroide a una velocidad de ' + str(VelocidadAst) + ' km/s y de un tamaño de ' + str(TamañoAst) + ' m. ')\n",
    "elif VelocidadAst >= 20:\n",
    "    print('Ve el cielo, y tal vez puedas ver una luz verde')\n",
    "elif TamañoAst < 25:\n",
    "    print('Asteroide que entrará a la atmósfera se desintegrará')\n",
    "else:\n",
    "    print('Sin asteroides a la redonda')"
   ]
  }
 ],
 "metadata": {
  "interpreter": {
   "hash": "2f225c214e61cba03683fbc55c8c48645202e001eb1798a869794811d95e1b14"
  },
  "kernelspec": {
   "display_name": "Python 3.9.7 64-bit",
   "language": "python",
   "name": "python3"
  },
  "language_info": {
   "codemirror_mode": {
    "name": "ipython",
    "version": 3
   },
   "file_extension": ".py",
   "mimetype": "text/x-python",
   "name": "python",
   "nbconvert_exporter": "python",
   "pygments_lexer": "ipython3",
   "version": "3.9.7"
  },
  "orig_nbformat": 4
 },
 "nbformat": 4,
 "nbformat_minor": 2
}
