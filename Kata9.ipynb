{
 "cells": [
  {
   "cell_type": "markdown",
   "metadata": {},
   "source": [
    "Funciones en Python"
   ]
  },
  {
   "cell_type": "code",
   "execution_count": 5,
   "metadata": {},
   "outputs": [
    {
     "name": "stdout",
     "output_type": "stream",
     "text": [
      "\n",
      "    Reporte de combustible:\n",
      "    Total Promedio: 52.666666666666664%\n",
      "    tank1: 40%\n",
      "    tank2: 53%\n",
      "    tank3: 65% \n",
      "    \n",
      "\n",
      "    Reporte de combustible:\n",
      "    Total Promedio: 38.0%\n",
      "    tank1: 56%\n",
      "    tank2: 35%\n",
      "    tank3: 23% \n",
      "    \n"
     ]
    }
   ],
   "source": [
    "def report(tank1,tank2,tank3):\n",
    "    \n",
    "    total_prom=(tank1+tank2+tank3)/3\n",
    "\n",
    "    return f\"\"\"\n",
    "    Reporte de combustible:\n",
    "    Total Promedio: {total_prom}%\n",
    "    tank1: {tank1}%\n",
    "    tank2: {tank2}%\n",
    "    tank3: {tank3}% \n",
    "    \"\"\"\n",
    "    \n",
    "print(report(40,53,65))\n",
    "\n",
    "def prom(values):\n",
    "    \n",
    "    total = sum(values)\n",
    "    numero_tanques = len(values)\n",
    "    return total / numero_tanques\n",
    "\n",
    "prom([46,52,48])\n",
    "\n",
    "def report(tank1,tank2,tank3):\n",
    "    \n",
    "    return f\"\"\"\n",
    "    Reporte de combustible:\n",
    "    Total Promedio: {prom([tank1,tank2,tank3])}%\n",
    "    tank1: {tank1}%\n",
    "    tank2: {tank2}%\n",
    "    tank3: {tank3}% \n",
    "    \"\"\"\n",
    "\n",
    "print(report(56, 35, 23))"
   ]
  },
  {
   "cell_type": "code",
   "execution_count": 6,
   "metadata": {},
   "outputs": [
    {
     "name": "stdout",
     "output_type": "stream",
     "text": [
      "\n",
      "    Viaje:\n",
      "    Viaje espacio: Luna\n",
      "    Tiempo total del  viaje  56 minutos\n",
      "    Total de 2950 combustible \n",
      "    \n",
      "\n",
      "    Viaje espacio Luna\n",
      "    Tiempo total del  viaje : 98 minutos\n",
      "    Total de combustible : 2950\n",
      "    \n",
      "\n",
      "    Mision a Luna\n",
      "    Tiempo total de viaje: 98 minutes\n",
      "    Total de combustible: 2950\n",
      "    Galon principal --> 1200 sobrante | Galon externo --> 1750 sobrante | \n"
     ]
    }
   ],
   "source": [
    "def report2(hora_prelanzamiento, tiempo_recorrido, tanque_interno, tanque_externo, nombredestino):\n",
    "    \n",
    "    return f\"\"\"\n",
    "    Viaje:\n",
    "    Viaje espacio: {nombredestino}\n",
    "    Tiempo total del  viaje  {hora_prelanzamiento+tiempo_recorrido} minutos\n",
    "    Total de {tanque_interno+tanque_externo} combustible \n",
    "    \"\"\"\n",
    "    \n",
    "print(report2(2, 54, 1200, 1750, \"Luna\"))\n",
    "\n",
    "def reporte_c(destino, *minutes, **fuel_reservoirs):\n",
    "    return f\"\"\"\n",
    "    Viaje espacio {destino}\n",
    "    Tiempo total del  viaje : {sum(minutes)} minutos\n",
    "    Total de combustible : {sum(fuel_reservoirs.values())}\n",
    "    \"\"\"\n",
    "\n",
    "print(reporte_c(\"Luna\", 32, 11, 55, t_in=1200,t_ex=1750))\n",
    "\n",
    "def mission_report(destination, *minutes, **fuel_reservoirs):\n",
    "    \n",
    "    main_report = f\"\"\"\n",
    "    Mision a {destination}\n",
    "    Tiempo total de viaje: {sum(minutes)} minutes\n",
    "    Total de combustible: {sum(fuel_reservoirs.values())}\n",
    "    \"\"\"\n",
    "    \n",
    "    for tank_name, gallons in fuel_reservoirs.items():\n",
    "        main_report += f\"\"\"Galon {tank_name} --> {gallons} sobrante | \"\"\"\n",
    "    \n",
    "    return main_report\n",
    "\n",
    "print(mission_report(\"Luna\", 32, 11, 55, principal=1200, externo=1750))"
   ]
  }
 ],
 "metadata": {
  "interpreter": {
   "hash": "2f225c214e61cba03683fbc55c8c48645202e001eb1798a869794811d95e1b14"
  },
  "kernelspec": {
   "display_name": "Python 3.9.7 64-bit",
   "language": "python",
   "name": "python3"
  },
  "language_info": {
   "codemirror_mode": {
    "name": "ipython",
    "version": 3
   },
   "file_extension": ".py",
   "mimetype": "text/x-python",
   "name": "python",
   "nbconvert_exporter": "python",
   "pygments_lexer": "ipython3",
   "version": "3.9.7"
  },
  "orig_nbformat": 4
 },
 "nbformat": 4,
 "nbformat_minor": 2
}
